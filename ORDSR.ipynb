{
  "nbformat": 4,
  "nbformat_minor": 0,
  "metadata": {
    "colab": {
      "provenance": [],
      "gpuType": "T4",
      "authorship_tag": "ABX9TyNyObEyr5slN065Ne1Qe63m",
      "include_colab_link": true
    },
    "kernelspec": {
      "name": "python3",
      "display_name": "Python 3"
    },
    "language_info": {
      "name": "python"
    },
    "accelerator": "GPU"
  },
  "cells": [
    {
      "cell_type": "markdown",
      "metadata": {
        "id": "view-in-github",
        "colab_type": "text"
      },
      "source": [
        "<a href=\"https://colab.research.google.com/github/zahra-moammeri/super_resolutoin/blob/main/ORDSR.ipynb\" target=\"_parent\"><img src=\"https://colab.research.google.com/assets/colab-badge.svg\" alt=\"Open In Colab\"/></a>"
      ]
    },
    {
      "cell_type": "code",
      "execution_count": 3,
      "metadata": {
        "colab": {
          "base_uri": "https://localhost:8080/"
        },
        "id": "kvI1mCzFtxnn",
        "outputId": "b97ca31f-82c9-49f7-997b-9c61d49dc4ba"
      },
      "outputs": [
        {
          "output_type": "stream",
          "name": "stdout",
          "text": [
            "Mounted at /content/drive\n"
          ]
        }
      ],
      "source": [
        "from google.colab import drive\n",
        "drive.mount('/content/drive')"
      ]
    },
    {
      "cell_type": "code",
      "source": [
        "%cd '/content/drive/MyDrive/papersCodes'"
      ],
      "metadata": {
        "colab": {
          "base_uri": "https://localhost:8080/"
        },
        "id": "DqbWm4HxuIaB",
        "outputId": "eff8dcb7-20ba-4637-c12f-f261967055cd"
      },
      "execution_count": 5,
      "outputs": [
        {
          "output_type": "stream",
          "name": "stdout",
          "text": [
            "/content/drive/MyDrive/papersCodes\n"
          ]
        }
      ]
    },
    {
      "cell_type": "code",
      "source": [
        "!git clone https://github.com/tT0NG/ORDSR.git"
      ],
      "metadata": {
        "colab": {
          "base_uri": "https://localhost:8080/"
        },
        "id": "Ijjfdy7nu2oB",
        "outputId": "6a621639-46d9-4416-c3d0-a41a85f712da"
      },
      "execution_count": 6,
      "outputs": [
        {
          "output_type": "stream",
          "name": "stdout",
          "text": [
            "Cloning into 'ORDSR'...\n",
            "remote: Enumerating objects: 40, done.\u001b[K\n",
            "remote: Total 40 (delta 0), reused 0 (delta 0), pack-reused 40\u001b[K\n",
            "Receiving objects: 100% (40/40), 8.70 MiB | 5.22 MiB/s, done.\n",
            "Resolving deltas: 100% (9/9), done.\n"
          ]
        }
      ]
    },
    {
      "cell_type": "code",
      "source": [
        "# import tensorflow as tf\n",
        "import cv2\n",
        "import numpy as np\n",
        "# tf.compat.v1.GraphDef()\n",
        "import tensorflow.compat.v1 as tf\n",
        "\n",
        "\n",
        "def load_graph(frozen_graph_filename):\n",
        "    with tf.gfile.GFile(frozen_graph_filename, \"rb\") as f:\n",
        "        graph_def = tf.GraphDef()\n",
        "        graph_def.ParseFromString(f.read())\n",
        "    # tf.saved_model.load(frozen_graph_filename)\n",
        "    with tf.Graph().as_default() as graph:\n",
        "        tf.import_graph_def(graph_def, name=\"ORDSR\")\n",
        "    return graph\n",
        "\n",
        "if __name__ == '__main__':\n",
        "    image = cv2.imread('/content/drive/MyDrive/papersCodes/ORDSR/dem.bmp', 0)\n",
        "    image = image.astype(np.float32) / 255\n",
        "    testInput = image[np.newaxis, ..., np.newaxis]\n",
        "    scale = 3\n",
        "    graph = load_graph('/content/drive/MyDrive/papersCodes/ORDSR/model/x{}.pb'.format(scale))\n",
        "\n",
        "    input_op = graph.get_tensor_by_name('ORDSR/input_op:0')\n",
        "    output_op = graph.get_tensor_by_name('ORDSR/output_op:0')\n",
        "    print('{}'.format(testInput.dtype))\n",
        "    with tf.Session(graph=graph) as sess:\n",
        "        SR = sess.run([output_op], feed_dict={input_op: testInput.astype(np.float)})\n",
        "        cv2.imwrite('/content/drive/MyDrive/papersCodes/ORDSR/dem_SR.bmp', SR[0][0, ...] * 255)\n",
        "\n",
        "    print('ORDSR finished!')\n"
      ],
      "metadata": {
        "colab": {
          "base_uri": "https://localhost:8080/"
        },
        "id": "xGbyfOLGu9Mp",
        "outputId": "5578a26a-c81e-4f3f-8e39-1c60e101864b"
      },
      "execution_count": 10,
      "outputs": [
        {
          "output_type": "stream",
          "name": "stdout",
          "text": [
            "float32\n",
            "ORDSR finished!\n"
          ]
        },
        {
          "output_type": "stream",
          "name": "stderr",
          "text": [
            "<ipython-input-10-2783e9e7f4dd>:28: DeprecationWarning: `np.float` is a deprecated alias for the builtin `float`. To silence this warning, use `float` by itself. Doing this will not modify any behavior and is safe. If you specifically wanted the numpy scalar type, use `np.float64` here.\n",
            "Deprecated in NumPy 1.20; for more details and guidance: https://numpy.org/devdocs/release/1.20.0-notes.html#deprecations\n",
            "  SR = sess.run([output_op], feed_dict={input_op: testInput.astype(np.float)})\n"
          ]
        }
      ]
    }
  ]
}